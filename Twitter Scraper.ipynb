{
 "cells": [
  {
   "cell_type": "code",
   "execution_count": 1,
   "id": "20b3a22b",
   "metadata": {},
   "outputs": [],
   "source": [
    "import os\n",
    "import pandas as pd\n",
    "\n",
    "# Scrape 100,000 tweets from @elonmusk twitter user\n",
    "os.system(\"snscrape --jsonl --max-results 100000 twitter-search 'from:elonmusk' > text-query-tweets.json\")\n",
    "\n",
    "#Read tweets JSON file into python using pandas\n",
    "tweets_df = pd.read_json('text-query-tweets.json', lines=True)\n",
    "\n",
    "#Save content column of tweet to text file on local computer\n",
    "tweets_df.content.to_csv(r'C:\\filepath...\\elon_tweets.txt', header=None, index=None, sep='\\t', mode='a')"
   ]
  }
 ],
 "metadata": {
  "kernelspec": {
   "display_name": "Python 3 (ipykernel)",
   "language": "python",
   "name": "python3"
  },
  "language_info": {
   "codemirror_mode": {
    "name": "ipython",
    "version": 3
   },
   "file_extension": ".py",
   "mimetype": "text/x-python",
   "name": "python",
   "nbconvert_exporter": "python",
   "pygments_lexer": "ipython3",
   "version": "3.9.12"
  }
 },
 "nbformat": 4,
 "nbformat_minor": 5
}
